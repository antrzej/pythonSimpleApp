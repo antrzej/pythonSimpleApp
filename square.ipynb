{
 "cells": [
  {
   "cell_type": "code",
   "execution_count": 1,
   "metadata": {},
   "outputs": [
    {
     "name": "stdout",
     "output_type": "stream",
     "text": [
      "1 squared = 1\n",
      "2 squared = 4\n",
      "3 squared = 9\n",
      "4 squared = 16\n",
      "5 squared = 25\n"
     ]
    }
   ],
   "source": [
    "tab = [i for i in range(1,6)]\n",
    "\n",
    "for n in tab:\n",
    "    print(f\"{n} SQUARED = {n**2}, CUBE = {n**3}\")\n",
    "    \n",
    "print(\"(c) done by me\")"
   ]
  },
  {
   "cell_type": "code",
   "execution_count": 17,
   "metadata": {},
   "outputs": [
    {
     "name": "stdout",
     "output_type": "stream",
     "text": [
      "25\n",
      "[2, 3, 5, 7, 11, 13, 17, 19, 23, 29, 31, 37, 41, 43, 47, 53, 59, 61, 67, 71, 73, 79, 83, 89, 97]\n"
     ]
    }
   ],
   "source": [
    "MAX = 100\n",
    "\n",
    "tab = [x for x in range(MAX + 1)]\n",
    "\n",
    "tab[0] = tab[1] = 0\n",
    "n = 2\n",
    "\n",
    "while n**2 < MAX:\n",
    "    if tab[n] != 0:\n",
    "        tab[n**2 : MAX+1 : n] = [0] * (((MAX - n**2) // n) + 1)\n",
    "    n += 1\n",
    "    \n",
    "primes = list(filter(lambda x: x > 0, tab))\n",
    "print(f\"Amount of primes numbers in range 0 - {MAX}: {len(primes)}\")\n",
    "print(primes)"
   ]
  }
 ],
 "metadata": {
  "kernelspec": {
   "display_name": "Python 3",
   "language": "python",
   "name": "python3"
  },
  "language_info": {
   "codemirror_mode": {
    "name": "ipython",
    "version": 3
   },
   "file_extension": ".py",
   "mimetype": "text/x-python",
   "name": "python",
   "nbconvert_exporter": "python",
   "pygments_lexer": "ipython3",
   "version": "3.7.3"
  },
  "toc": {
   "base_numbering": 1,
   "nav_menu": {},
   "number_sections": true,
   "sideBar": true,
   "skip_h1_title": false,
   "title_cell": "Table of Contents",
   "title_sidebar": "Contents",
   "toc_cell": false,
   "toc_position": {},
   "toc_section_display": true,
   "toc_window_display": true
  }
 },
 "nbformat": 4,
 "nbformat_minor": 2
}
